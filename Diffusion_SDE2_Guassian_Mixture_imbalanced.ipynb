{
  "cells": [
    {
      "cell_type": "code",
      "execution_count": 1,
      "metadata": {
        "id": "G1nUlaMIX_7Z"
      },
      "outputs": [],
      "source": [
        "import torch\n",
        "import torch.nn as nn\n",
        "import torch.nn.functional as F\n",
        "import numpy as np\n",
        "import functools\n",
        "import math\n",
        "from copy import deepcopy\n",
        "from torch.utils.data import DataLoader, TensorDataset\n",
        "from tqdm import tqdm\n",
        "import matplotlib.pyplot as plt\n",
        "from torch.optim import Adam"
      ]
    },
    {
      "cell_type": "markdown",
      "metadata": {
        "id": "ZQ6ZHWu5vEOe"
      },
      "source": [
        "# Define the U-net based score prediction network"
      ]
    },
    {
      "cell_type": "markdown",
      "metadata": {
        "id": "POysG14oZ2iF"
      },
      "source": [
        "# Sampling the Frequency Vector $\\mathbf{w}$\n",
        "\n",
        "Let the total embedding dimension be $D$ (an even integer), and define  \n",
        "$$\n",
        "d \\;=\\; \\frac{D}{2}\n",
        "$$  \n",
        "as the number of frequency pairs.\n",
        "\n",
        "The frequency vector  \n",
        "$$\n",
        "\\mathbf{w} \\in \\mathbb{R}^{d}\n",
        "$$  \n",
        "is sampled once at initialization from a Gaussian with standard deviation given by the `scale` hyperparameter:\n",
        "$$\n",
        "w_j \\;\\sim\\; N\\bigl(0,\\;\\text{scale}^2\\bigr),\n",
        "\\quad\n",
        "j = 1,2,\\dots,d.\n",
        "$$\n",
        "## Time Encoding Function\n",
        "\n",
        "Let the input timestep be $t \\in \\mathbb{R}$, the total embedding dimension be $D$ (even), and define  \n",
        "$$\n",
        "d = \\frac{D}{2}\n",
        "$$  \n",
        "as the number of frequency pairs.  Let  \n",
        "$$\n",
        "\\mathbf{w} = (w_{1}, w_{2}, \\dots, w_{d}) \\in \\mathbb{R}^{d}\n",
        "$$  \n",
        "be the fixed frequency vector.\n",
        "\n",
        "Then the time encoding $\\phi: \\mathbb{R} \\to \\mathbb{R}^{D}$ is given by the concatenation of sines and cosines at those frequencies:\n",
        "\n",
        "$$\n",
        "\\phi(t) =\n",
        "\\begin{pmatrix}\n",
        "\\sin\\bigl(2\\pi\\,w_{1}\\,t\\bigr)\\\\\n",
        "\\sin\\bigl(2\\pi\\,w_{2}\\,t\\bigr)\\\\\n",
        "\\vdots\\\\\n",
        "\\sin\\bigl(2\\pi\\,w_{d}\\,t\\bigr)\\\\[6pt]\n",
        "\\cos\\bigl(2\\pi\\,w_{1}\\,t\\bigr)\\\\\n",
        "\\cos\\bigl(2\\pi\\,w_{2}\\,t\\bigr)\\\\\n",
        "\\vdots\\\\\n",
        "\\cos\\bigl(2\\pi\\,w_{d}\\,t\\bigr)\n",
        "\\end{pmatrix}\n",
        "\\;\\in\\;\\mathbb{R}^{D}\n",
        "$$\n",
        "\n",
        "Equivalently, more compactly:\n",
        "\n",
        "$$\n",
        "\\phi(t) \\;=\\;\n",
        "\\bigl[\\,\n",
        "\\sin\\bigl(2\\pi\\,t\\,\\mathbf{w}\\bigr),\n",
        "\\;\\cos\\bigl(2\\pi\\,t\\,\\mathbf{w}\\bigr)\n",
        "\\,\\bigr]\n",
        "\\;\\in\\;\\mathbb{R}^{D/2}\\times\\mathbb{R}^{D/2} \\;=\\; \\mathbb{R}^{D}.\n",
        "$$\n",
        "\n",
        "For a batch of timesteps $\\mathbf{t}\\in\\mathbb{R}^{B}$, you apply $\\phi$ element-wise to obtain a $(B\\times D)$ tensor.\n",
        "\n"
      ]
    },
    {
      "cell_type": "code",
      "execution_count": 2,
      "metadata": {
        "id": "DJP55HGEYJvF"
      },
      "outputs": [],
      "source": [
        "class TimeEncoding(nn.Module):\n",
        "    def __init__(self, embed_dim,scale=30):\n",
        "      super().__init__()\n",
        "      d =embed_dim//2\n",
        "      w=torch.randn(d)*scale\n",
        "      self.register_buffer('W',w,persistent=True)\n",
        "    def forward(self,t):\n",
        "      x_proj=t[:,None]*self.W[None,:]*2*math.pi\n",
        "      return torch.cat([torch.sin(x_proj),torch.cos(x_proj)],dim=-1)"
      ]
    },
    {
      "cell_type": "code",
      "execution_count": 3,
      "metadata": {
        "id": "nGHEALJ1kKSG"
      },
      "outputs": [],
      "source": [
        "class Dense(nn.Module):\n",
        "  def __init__(self,input_dim, output_dim):\n",
        "    super().__init__()\n",
        "    self.dense=nn.Linear(input_dim,output_dim)\n",
        "  def forward(self,x):\n",
        "    return self.dense(x)[...,None,None] #(B,output_dim)->(B, output_dim,1,1)"
      ]
    },
    {
      "cell_type": "markdown",
      "metadata": {
        "id": "fPLTpkTcqsCm"
      },
      "source": [
        "Assume an input activation tensor  \n",
        "- $X\\in\\mathbb{R}^{B\\times C\\times H\\times W}$,  \n",
        "- with $C$ channels and we choose $G=4$ groups.  \n",
        "Let each group have $M = C/G$ channels.  \n",
        "\n",
        "For each sample $b$ and group $g$ (where $g=0,\\dots,G-1$), define the set of channel indices  \n",
        "$S_g = \\{\\,gM,\\,gM+1,\\,\\dots,\\, (g+1)M-1\\}$.  \n",
        "\n",
        "1. **Compute the group mean**  \n",
        "$$\n",
        "\\mu_{b,g}\n",
        "= \\frac{1}{M\\,H\\,W}\n",
        "\\sum_{c\\in S_g}\n",
        "\\sum_{h=1}^{H}\n",
        "\\sum_{w=1}^{W}\n",
        "X_{b,c,h,w}\n",
        "$$\n",
        "\n",
        "2. **Compute the group variance**  \n",
        "$$\n",
        "\\sigma^2_{b,g}\n",
        "= \\frac{1}{M\\,H\\,W}\n",
        "\\sum_{c\\in S_g}\n",
        "\\sum_{h=1}^{H}\n",
        "\\sum_{w=1}^{W}\n",
        "\\bigl(X_{b,c,h,w} - \\mu_{b,g}\\bigr)^{2}\n",
        "$$\n",
        "\n",
        "3. **Normalize each element**  \n",
        "For each channel $c\\in S_g$:\n",
        "$$\n",
        "\\hat X_{b,c,h,w}\n",
        "= \\frac{X_{b,c,h,w} - \\mu_{b,g}}\n",
        "       {\\sqrt{\\sigma^2_{b,g} + \\epsilon}}\n",
        "$$\n",
        "\n",
        "4. **Apply learnable affine transform**  \n",
        "With per‐channel scale $\\gamma_c$ and bias $\\beta_c$:\n",
        "$$\n",
        "Y_{b,c,h,w}\n",
        "= \\gamma_{c}\\,\\hat X_{b,c,h,w} + \\beta_{c}\n",
        "$$\n",
        "\n",
        "This implements `nn.GroupNorm(4, num_channels=C)` in PyTorch.  \n"
      ]
    },
    {
      "cell_type": "markdown",
      "metadata": {
        "id": "snlklIY0_C9B"
      },
      "source": [
        "# For scalar data"
      ]
    },
    {
      "cell_type": "code",
      "execution_count": 4,
      "metadata": {
        "id": "HCFX_9Og_FW7"
      },
      "outputs": [],
      "source": [
        "class MLP2DScoreNet(nn.Module):\n",
        "  def __init__(self,t_dim=64,hidden_dim=128):\n",
        "    super().__init__()\n",
        "    self.time_mlp=nn.Sequential(\n",
        "        TimeEncoding(t_dim),\n",
        "        nn.Linear(t_dim,hidden_dim),\n",
        "        nn.Mish()\n",
        "    )\n",
        "    self.net=nn.Sequential(\n",
        "        nn.Linear(2+hidden_dim,hidden_dim),\n",
        "        nn.Mish(),\n",
        "        nn.Linear(hidden_dim,hidden_dim),\n",
        "        nn.Mish(),\n",
        "        nn.Linear(hidden_dim,hidden_dim),\n",
        "        nn.Mish(),\n",
        "        nn.Linear(hidden_dim,2)\n",
        "    )\n",
        "  def forward(self,x_t,t):\n",
        "    t_embed=self.time_mlp(t)\n",
        "    inp=torch.cat([x_t,t_embed],dim=1)\n",
        "    return self.net(inp)"
      ]
    },
    {
      "cell_type": "markdown",
      "metadata": {
        "id": "de9GS35jvJ4u"
      },
      "source": [
        "# Define the SDE and Denoising Score Matching Objective"
      ]
    },
    {
      "cell_type": "markdown",
      "metadata": {
        "id": "eFNDnSKov6FL"
      },
      "source": [
        "SDE is hand-designed, like any other hyper-parameters.\n",
        "\n",
        "Now let's get our hands dirty on training. First of all, we need to specify an SDE that perturbs the data distribution $p_{0}$ to a prior distribution $p_{T}$. We choose the following SDE:\n",
        "\n",
        "$$\n",
        "dx = \\sigma^{t}\\,dw,\\quad t\\in[0,1].\n",
        "$$\n",
        "\n",
        "In this case,\n",
        "\n",
        "$$\n",
        "p_{0t}\\bigl(x(t)\\mid x(0)\\bigr)\n",
        "= N\\Bigl(\n",
        "x(t)\\;;\\;x(0),\\;\\frac{1}{2\\log\\sigma}\\bigl(\\sigma^{2t}-1\\bigr)\\,I\n",
        "\\Bigr).\n",
        "$$\n",
        "\n",
        "and we can choose the weighting function\n",
        "\n",
        "$$\n",
        "\\lambda(t) \\;=\\;\\mathrm{variance}\n",
        "\\;=\\;\\frac{1}{2\\log\\sigma}\\bigl(\\sigma^{2t}-1\\bigr).\n",
        "$$\n",
        "\n",
        "When $\\sigma$ is large, the prior distribution $p_{t=1}$ is\n",
        "\n",
        "$$\n",
        "p_{t=1}(x)\n",
        "=\\int p_{0}(y)\\,N\\Bigl(x ; y,\\; \\tfrac{1}{2\\log\\sigma}(\\sigma^{2}-1)\\,I\\Bigr)\\,dy\n",
        "\\approx N\\Bigl(x ; 0,\\; \\tfrac{1}{2\\log\\sigma}(\\sigma^{2}-1)\\,I\\Bigr),\n",
        "$$\n",
        "\n",
        "which is approximately independent of the data distribution and is easy to sample from.\n",
        "\n",
        "Intuitively, this SDE captures a continuum of Gaussian perturbations with variance function $\\tfrac{1}{2\\log\\sigma}(\\sigma^{2t}-1)$. This continuum of perturbations allows us to gradually transfer samples from a data distribution $p_{0}$ to a simple Gaussian distribution $p_{1}$.\n"
      ]
    },
    {
      "cell_type": "code",
      "execution_count": 5,
      "metadata": {
        "id": "mIk8qAKevQ8o"
      },
      "outputs": [],
      "source": [
        "device = 'cuda' if torch.cuda.is_available() else 'cpu'\n",
        "\n",
        "\n",
        "def marginal_prob_std(t, sigma):\n",
        "    \"\"\"Compute the mean and standard deviation of p_{0t}(x(t) | x(0)).\"\"\"\n",
        "    if not isinstance(t, torch.Tensor):\n",
        "        t = torch.tensor(t, device=device, dtype=torch.float32)\n",
        "    return torch.sqrt((sigma**(2*t) - 1) / (2 * np.log(sigma)))\n",
        "\n",
        "\n",
        "def diffusion_coeff(t, sigma):\n",
        "    \"\"\"Compute the diffusion coefficient of our SDE.\"\"\"\n",
        "    if not isinstance(t, torch.Tensor):\n",
        "        t = torch.tensor(t, device=device, dtype=torch.float32)\n",
        "    return sigma**t\n",
        "\n",
        "\n",
        "sigma = 25\n",
        "marginal_prob_std_fn = functools.partial(marginal_prob_std, sigma=sigma)\n",
        "diffusion_coeff_fn = functools.partial(diffusion_coeff, sigma=sigma)"
      ]
    },
    {
      "cell_type": "markdown",
      "metadata": {
        "id": "Mw4a4v387c8N"
      },
      "source": [
        "The loss is defined as:\n",
        "$$\n",
        "\\theta^{*} \\;=\\; \\arg\\min_{\\theta}\\; \\mathbb{E}_{t}\\biggl\\{\\;\\lambda(t)\\;\\mathbb{E}_{x(0)}\\;\\mathbb{E}_{x(t)\\mid x(0)}\\bigl[\\bigl\\lVert s_{\\theta}\\bigl(x(t),\\,t\\bigr)\\;-\\;\\nabla_{x(t)}\\log p_{0t}\\bigl(x(t)\\mid x(0)\\bigr)\\bigr\\rVert_{2}^{2}\\bigr]\\biggr\\}.\n",
        "$$\n",
        "where in this speical case:\n",
        "$$ \\nabla_{x(t)}\\log p_{0t}\\bigl(x(t)\\mid x(0)\\bigr)=-\\frac{\\epsilon}{\\sigma} $$\n",
        "$$ \\lambda(t)=\\sigma^2$$"
      ]
    },
    {
      "cell_type": "code",
      "execution_count": 6,
      "metadata": {
        "id": "85-ebSnV8mNU"
      },
      "outputs": [],
      "source": [
        "class EMA(nn.Module):\n",
        "    def __init__(self, model, decay=0.9999, device=None):\n",
        "        super(EMA, self).__init__()\n",
        "        # make a copy of the model for accumulating moving average of weights\n",
        "        self.module = deepcopy(model)\n",
        "        self.module.eval()\n",
        "        self.decay = decay\n",
        "        self.device = device  # perform EMA on different device from model if set\n",
        "        if self.device is not None:\n",
        "            self.module.to(device=self.device)\n",
        "\n",
        "    def _update(self, model, update_fn):\n",
        "        with torch.no_grad():\n",
        "            for ema_v, model_v in zip(self.module.state_dict().values(),\n",
        "                                      model.state_dict().values()):\n",
        "                if self.device is not None:\n",
        "                    model_v = model_v.to(device=self.device)\n",
        "                ema_v.copy_(update_fn(ema_v, model_v))\n",
        "\n",
        "    def update(self, model):\n",
        "        self._update(\n",
        "            model,\n",
        "            update_fn=lambda e, m: self.decay * e + (1.0 - self.decay) * m\n",
        "        )\n",
        "\n",
        "    def set(self, model):\n",
        "        self._update(\n",
        "            model,\n",
        "            update_fn=lambda e, m: m\n",
        "        )"
      ]
    },
    {
      "cell_type": "markdown",
      "metadata": {
        "id": "j0l13uuHBlx_"
      },
      "source": [
        "## Training for scalar data"
      ]
    },
    {
      "cell_type": "code",
      "execution_count": 7,
      "metadata": {
        "id": "Bjwca70-Bn9v"
      },
      "outputs": [],
      "source": [
        "def loss_fn(model, x0, marginal_prob_std_fn, eps=1e-5):\n",
        "    \"\"\"\n",
        "    Denoising score matching loss for 2D data.\n",
        "\n",
        "    Args:\n",
        "        model: score network\n",
        "        x0: clean data samples (B, 2)\n",
        "        marginal_prob_std_fn: function to compute std at time t\n",
        "        eps: small epsilon for numerical stability\n",
        "\n",
        "    Returns:\n",
        "        Loss value\n",
        "    \"\"\"\n",
        "    # Random time\n",
        "    t = torch.rand(x0.shape[0], device=x0.device) * (1.0 - eps) + eps\n",
        "\n",
        "    # Sample noise\n",
        "    z = torch.randn_like(x0)\n",
        "\n",
        "    # Get std at time t\n",
        "    std = marginal_prob_std_fn(t).unsqueeze(1)  # (B, 1)\n",
        "\n",
        "    # Perturb data\n",
        "    perturbed_x0 = x0 + z * std\n",
        "\n",
        "    # Predict score\n",
        "    score = model(perturbed_x0, t)\n",
        "\n",
        "    # Compute loss: E[||s_θ(x_t, t) - (-z/std)||^2] weighted by std^2\n",
        "    target = -z / std\n",
        "    loss = torch.mean(torch.sum((score - target)**2, dim=1) * std.squeeze(1)**2)\n",
        "\n",
        "    return loss"
      ]
    },
    {
      "cell_type": "markdown",
      "source": [
        "Creating new data points at (-10,10)"
      ],
      "metadata": {
        "id": "n4NzUcF5T6cc"
      }
    },
    {
      "cell_type": "code",
      "source": [
        "# Create new dataset with clusters at (-10, 10)\n",
        "batch_size = 128\n",
        "N = 100_000\n",
        "sigma_data = 1.0\n",
        "\n",
        "# Create two-component Gaussian mixture with better separation\n",
        "mean_new = torch.tensor([[-10.0, 0.0], [10.0, 0.0]], device=device)\n",
        "comp_ids_new = torch.randint(0, 2, (N,), device=device)\n",
        "mus_new = mean_new[comp_ids_new]\n",
        "vars=torch.tensor([3,0.2],device=device)\n",
        "noise_new = torch.randn(N, 2, device=device) * vars[comp_ids_new].unsqueeze(1)\n",
        "x0_new = mus_new + noise_new\n",
        "\n",
        "# Create new dataset and loader\n",
        "dataset_new = TensorDataset(x0_new.cpu())\n",
        "loader_new = DataLoader(dataset_new, batch_size=batch_size, shuffle=True)\n",
        "\n",
        "print(f\"New dataset statistics:\")\n",
        "print(f\"  Dataset size: {N}\")\n",
        "print(f\"  Data mean: {x0_new.mean(dim=0)}\")\n",
        "print(f\"  Data std: {x0_new.std(dim=0)}\")\n",
        "\n",
        "# Verify the new clusters\n",
        "real_data_new = x0_new.cpu().numpy()\n",
        "left_cluster_new = real_data_new[real_data_new[:, 0] < 0]\n",
        "right_cluster_new = real_data_new[real_data_new[:, 0] > 0]\n",
        "\n",
        "print(f\"\\nNew cluster analysis:\")\n",
        "print(f\"  Left cluster mean: {np.mean(left_cluster_new, axis=0)}\")\n",
        "print(f\"  Right cluster mean: {np.mean(right_cluster_new, axis=0)}\")\n",
        "print(f\"  Left cluster std: {np.std(left_cluster_new, axis=0)}\")\n",
        "print(f\"  Right cluster std: {np.std(right_cluster_new, axis=0)}\")\n",
        "print(f\"  Cluster separation: {np.mean(right_cluster_new, axis=0)[0] - np.mean(left_cluster_new, axis=0)[0]:.1f}\")\n",
        "\n",
        "# Visualize the new data\n",
        "plt.figure(figsize=(12, 4))\n",
        "\n",
        "plt.subplot(1, 2, 1)\n",
        "plt.scatter(real_data_new[:5000, 0], real_data_new[:5000, 1], s=1, alpha=0.6, color='blue')\n",
        "plt.title('New GMM Data: Clusters at (-10, 10)')\n",
        "plt.xlabel('X')\n",
        "plt.ylabel('Y')\n",
        "plt.grid(True, alpha=0.3)\n",
        "plt.axis('equal')\n",
        "\n",
        "plt.subplot(1, 2, 2)\n",
        "plt.hist(real_data_new[:, 0], bins=50, alpha=0.7, color='skyblue', edgecolor='black')\n",
        "plt.title('X-coordinate Distribution')\n",
        "plt.xlabel('X')\n",
        "plt.ylabel('Frequency')\n",
        "plt.grid(True, alpha=0.3)\n",
        "\n",
        "plt.tight_layout()\n",
        "plt.show()\n"
      ],
      "metadata": {
        "colab": {
          "base_uri": "https://localhost:8080/",
          "height": 603
        },
        "id": "FiDba3gkTwfc",
        "outputId": "f64fab3b-0735-474e-8177-f46a7e85e41d"
      },
      "execution_count": 8,
      "outputs": [
        {
          "output_type": "stream",
          "name": "stdout",
          "text": [
            "New dataset statistics:\n",
            "  Dataset size: 100000\n",
            "  Data mean: tensor([ 0.0464, -0.0056])\n",
            "  Data std: tensor([10.2133,  2.1190])\n",
            "\n",
            "New cluster analysis:\n",
            "  Left cluster mean: [-9.983102e+00 -9.950980e-03]\n",
            "  Right cluster mean: [ 9.9963646e+00 -1.1986633e-03]\n",
            "  Left cluster std: [2.999873 2.995275]\n",
            "  Right cluster std: [0.27107942 0.20889038]\n",
            "  Cluster separation: 20.0\n"
          ]
        },
        {
          "output_type": "display_data",
          "data": {
            "text/plain": [
              "<Figure size 1200x400 with 2 Axes>"
            ],
            "image/png": "[encoded data removed]"
          },
          "metadata": {}
        }
      ]
    },
    {
      "cell_type": "code",
      "source": [
        "# Create a new model for the new dataset\n",
        "score_model_new = MLP2DScoreNet(t_dim=64, hidden_dim=256).to(device)\n",
        "ema_new = EMA(score_model_new, decay=0.9999, device=device)\n",
        "\n",
        "print(f\"New model parameters: {sum(p.numel() for p in score_model_new.parameters())}\")\n",
        "\n",
        "# Manual optimizer setup\n",
        "lr = 1e-4\n",
        "beta1, beta2 = 0.9, 0.999\n",
        "eps_opt = 1e-8\n",
        "\n",
        "# Initialize Adam states for new model\n",
        "m_dict_new = {}\n",
        "v_dict_new = {}\n",
        "step_new = 0\n",
        "\n",
        "for name, param in score_model_new.named_parameters():\n",
        "    m_dict_new[name] = torch.zeros_like(param)\n",
        "    v_dict_new[name] = torch.zeros_like(param)\n",
        "\n",
        "# Training loop for new dataset\n",
        "n_epochs = 50  # More epochs for better convergence\n",
        "train_losses_new = []\n",
        "\n",
        "print(f\"Starting training for {n_epochs} epochs...\")\n",
        "\n",
        "for epoch in range(1, n_epochs + 1):\n",
        "    total_loss = 0.0\n",
        "    count = 0\n",
        "\n",
        "    pbar = tqdm(loader_new, desc=f\"Epoch {epoch}\")\n",
        "\n",
        "    for batch_idx, (x0_batch,) in enumerate(pbar):\n",
        "        x0_batch = x0_batch.to(device)\n",
        "\n",
        "        # Zero gradients\n",
        "        for param in score_model_new.parameters():\n",
        "            if param.grad is not None:\n",
        "                param.grad.zero_()\n",
        "\n",
        "        # Forward pass\n",
        "        loss = loss_fn(score_model_new, x0_batch, marginal_prob_std_fn)\n",
        "        loss.backward()\n",
        "\n",
        "        # Manual Adam update\n",
        "        step_new += 1\n",
        "\n",
        "        for name, param in score_model_new.named_parameters():\n",
        "            if param.grad is not None:\n",
        "                grad = param.grad.data\n",
        "\n",
        "                # Gradient clipping\n",
        "                grad_norm = torch.norm(grad)\n",
        "                if grad_norm > 1.0:\n",
        "                    grad = grad / grad_norm\n",
        "\n",
        "                # Adam update\n",
        "                m_dict_new[name] = beta1 * m_dict_new[name] + (1 - beta1) * grad\n",
        "                v_dict_new[name] = beta2 * v_dict_new[name] + (1 - beta2) * grad * grad\n",
        "\n",
        "                # Bias correction\n",
        "                m_hat = m_dict_new[name] / (1 - beta1**step_new)\n",
        "                v_hat = v_dict_new[name] / (1 - beta2**step_new)\n",
        "\n",
        "                # Update parameters\n",
        "                param.data -= lr * m_hat / (torch.sqrt(v_hat) + eps_opt)\n",
        "\n",
        "        # Update EMA\n",
        "        ema_new.update(score_model_new)\n",
        "\n",
        "        total_loss += loss.item() * x0_batch.size(0)\n",
        "        count += x0_batch.size(0)\n",
        "\n",
        "        pbar.set_postfix({\n",
        "            'loss': f'{total_loss/count:.4f}',\n",
        "            'step': step_new\n",
        "        })\n",
        "\n",
        "    avg_loss = total_loss / count\n",
        "    train_losses_new.append(avg_loss)\n",
        "\n",
        "    print(f\"[Epoch {epoch:02d}] Loss: {avg_loss:.4e}\")\n",
        "\n",
        "    # Quick validation every 5 epochs\n",
        "    if epoch % 5 == 0:\n",
        "        score_model_new.eval()\n",
        "        with torch.no_grad():\n",
        "            test_points = torch.tensor([[-10.0, 0.0], [10.0, 0.0], [0.0, 0.0]], device=device)\n",
        "            test_t = torch.full((3,), 0.5, device=device)\n",
        "            scores = ema_new.module(test_points, test_t)\n",
        "            print(f\"   Validation - Left: {scores[0].cpu().numpy()}, Right: {scores[1].cpu().numpy()}, Center: {scores[2].cpu().numpy()}\")\n",
        "        score_model_new.train()\n",
        "\n",
        "print(\"\\n✅ Training completed!\")\n",
        "\n",
        "# Plot training curve\n",
        "plt.figure(figsize=(8, 4))\n",
        "plt.plot(train_losses_new, 'b-', linewidth=2)\n",
        "plt.title('Training Loss (New Dataset)')\n",
        "plt.xlabel('Epoch')\n",
        "plt.ylabel('Loss')\n",
        "plt.grid(True, alpha=0.3)\n",
        "plt.show()\n",
        "\n",
        "print(f\"Initial loss: {train_losses_new[0]:.4e}\")\n",
        "print(f\"Final loss: {train_losses_new[-1]:.4e}\")\n",
        "print(f\"Loss reduction: {(train_losses_new[0] - train_losses_new[-1]) / train_losses_new[0] * 100:.1f}%\")"
      ],
      "metadata": {
        "colab": {
          "base_uri": "https://localhost:8080/",
          "height": 1000
        },
        "id": "6byOh8PtUiQU",
        "outputId": "0cc7a968-9743-4f0a-cc1c-ee4b4b074525"
      },
      "execution_count": 9,
      "outputs": [
        {
          "output_type": "stream",
          "name": "stdout",
          "text": [
            "New model parameters: 215042\n",
            "Starting training for 50 epochs...\n"
          ]
        },
        {
          "output_type": "stream",
          "name": "stderr",
          "text": [
            "Epoch 1: 100%|██████████| 782/782 [00:13<00:00, 59.78it/s, loss=1.4584, step=782]\n"
          ]
        },
        {
          "output_type": "stream",
          "name": "stdout",
          "text": [
            "[Epoch 01] Loss: 1.4584e+00\n"
          ]
        },
        {
          "output_type": "stream",
          "name": "stderr",
          "text": [
            "Epoch 2: 100%|██████████| 782/782 [00:13<00:00, 59.89it/s, loss=1.1250, step=1564]\n"
          ]
        },
        {
          "output_type": "stream",
          "name": "stdout",
          "text": [
            "[Epoch 02] Loss: 1.1250e+00\n"
          ]
        },
        {
          "output_type": "stream",
          "name": "stderr",
          "text": [
            "Epoch 3: 100%|██████████| 782/782 [00:13<00:00, 57.66it/s, loss=0.9790, step=2346]\n"
          ]
        },
        {
          "output_type": "stream",
          "name": "stdout",
          "text": [
            "[Epoch 03] Loss: 9.7904e-01\n"
          ]
        },
        {
          "output_type": "stream",
          "name": "stderr",
          "text": [
            "Epoch 4: 100%|██████████| 782/782 [00:13<00:00, 58.63it/s, loss=0.9240, step=3128]\n"
          ]
        },
        {
          "output_type": "stream",
          "name": "stdout",
          "text": [
            "[Epoch 04] Loss: 9.2399e-01\n"
          ]
        },
        {
          "output_type": "stream",
          "name": "stderr",
          "text": [
            "Epoch 5: 100%|██████████| 782/782 [00:12<00:00, 60.96it/s, loss=0.8896, step=3910]\n"
          ]
        },
        {
          "output_type": "stream",
          "name": "stdout",
          "text": [
            "[Epoch 05] Loss: 8.8957e-01\n",
            "   Validation - Left: [-0.01452758  0.01810964], Right: [-0.02717263 -0.04905   ], Center: [ 0.02982729 -0.01732597]\n"
          ]
        },
        {
          "output_type": "stream",
          "name": "stderr",
          "text": [
            "Epoch 6: 100%|██████████| 782/782 [00:12<00:00, 60.94it/s, loss=0.8752, step=4692]\n"
          ]
        },
        {
          "output_type": "stream",
          "name": "stdout",
          "text": [
            "[Epoch 06] Loss: 8.7525e-01\n"
          ]
        },
        {
          "output_type": "stream",
          "name": "stderr",
          "text": [
            "Epoch 7: 100%|██████████| 782/782 [00:12<00:00, 61.65it/s, loss=0.8660, step=5474]\n"
          ]
        },
        {
          "output_type": "stream",
          "name": "stdout",
          "text": [
            "[Epoch 07] Loss: 8.6597e-01\n"
          ]
        },
        {
          "output_type": "stream",
          "name": "stderr",
          "text": [
            "Epoch 8: 100%|██████████| 782/782 [00:12<00:00, 60.73it/s, loss=0.8567, step=6256]\n"
          ]
        },
        {
          "output_type": "stream",
          "name": "stdout",
          "text": [
            "[Epoch 08] Loss: 8.5670e-01\n"
          ]
        },
        {
          "output_type": "stream",
          "name": "stderr",
          "text": [
            "Epoch 9: 100%|██████████| 782/782 [00:13<00:00, 58.53it/s, loss=0.8465, step=7038]\n"
          ]
        },
        {
          "output_type": "stream",
          "name": "stdout",
          "text": [
            "[Epoch 09] Loss: 8.4647e-01\n"
          ]
        },
        {
          "output_type": "stream",
          "name": "stderr",
          "text": [
            "Epoch 10: 100%|██████████| 782/782 [00:12<00:00, 60.69it/s, loss=0.8443, step=7820]\n"
          ]
        },
        {
          "output_type": "stream",
          "name": "stdout",
          "text": [
            "[Epoch 10] Loss: 8.4429e-01\n",
            "   Validation - Left: [-0.17096673  0.04558337], Right: [-0.12010259 -0.03819554], Center: [0.07107965 0.00134972]\n"
          ]
        },
        {
          "output_type": "stream",
          "name": "stderr",
          "text": [
            "Epoch 11: 100%|██████████| 782/782 [00:13<00:00, 59.98it/s, loss=0.8390, step=8602]\n"
          ]
        },
        {
          "output_type": "stream",
          "name": "stdout",
          "text": [
            "[Epoch 11] Loss: 8.3898e-01\n"
          ]
        },
        {
          "output_type": "stream",
          "name": "stderr",
          "text": [
            "Epoch 12: 100%|██████████| 782/782 [00:12<00:00, 60.23it/s, loss=0.8323, step=9384]\n"
          ]
        },
        {
          "output_type": "stream",
          "name": "stdout",
          "text": [
            "[Epoch 12] Loss: 8.3230e-01\n"
          ]
        },
        {
          "output_type": "stream",
          "name": "stderr",
          "text": [
            "Epoch 13: 100%|██████████| 782/782 [00:12<00:00, 60.37it/s, loss=0.8317, step=10166]\n"
          ]
        },
        {
          "output_type": "stream",
          "name": "stdout",
          "text": [
            "[Epoch 13] Loss: 8.3166e-01\n"
          ]
        },
        {
          "output_type": "stream",
          "name": "stderr",
          "text": [
            "Epoch 14: 100%|██████████| 782/782 [00:13<00:00, 59.75it/s, loss=0.8325, step=10948]\n"
          ]
        },
        {
          "output_type": "stream",
          "name": "stdout",
          "text": [
            "[Epoch 14] Loss: 8.3251e-01\n"
          ]
        },
        {
          "output_type": "stream",
          "name": "stderr",
          "text": [
            "Epoch 15: 100%|██████████| 782/782 [00:13<00:00, 59.81it/s, loss=0.8286, step=11730]\n"
          ]
        },
        {
          "output_type": "stream",
          "name": "stdout",
          "text": [
            "[Epoch 15] Loss: 8.2860e-01\n",
            "   Validation - Left: [-0.21672879  0.04778327], Right: [-0.32174653 -0.01411757], Center: [0.0510658  0.01312384]\n"
          ]
        },
        {
          "output_type": "stream",
          "name": "stderr",
          "text": [
            "Epoch 16: 100%|██████████| 782/782 [00:12<00:00, 60.47it/s, loss=0.8175, step=12512]\n"
          ]
        },
        {
          "output_type": "stream",
          "name": "stdout",
          "text": [
            "[Epoch 16] Loss: 8.1746e-01\n"
          ]
        },
        {
          "output_type": "stream",
          "name": "stderr",
          "text": [
            "Epoch 17: 100%|██████████| 782/782 [00:12<00:00, 61.11it/s, loss=0.8204, step=13294]\n"
          ]
        },
        {
          "output_type": "stream",
          "name": "stdout",
          "text": [
            "[Epoch 17] Loss: 8.2035e-01\n"
          ]
        },
        {
          "output_type": "stream",
          "name": "stderr",
          "text": [
            "Epoch 18: 100%|██████████| 782/782 [00:12<00:00, 60.47it/s, loss=0.8313, step=14076]\n"
          ]
        },
        {
          "output_type": "stream",
          "name": "stdout",
          "text": [
            "[Epoch 18] Loss: 8.3131e-01\n"
          ]
        },
        {
          "output_type": "stream",
          "name": "stderr",
          "text": [
            "Epoch 19: 100%|██████████| 782/782 [00:12<00:00, 60.44it/s, loss=0.8246, step=14858]\n"
          ]
        },
        {
          "output_type": "stream",
          "name": "stdout",
          "text": [
            "[Epoch 19] Loss: 8.2461e-01\n"
          ]
        },
        {
          "output_type": "stream",
          "name": "stderr",
          "text": [
            "Epoch 20: 100%|██████████| 782/782 [00:12<00:00, 60.69it/s, loss=0.8325, step=15640]\n"
          ]
        },
        {
          "output_type": "stream",
          "name": "stdout",
          "text": [
            "[Epoch 20] Loss: 8.3252e-01\n",
            "   Validation - Left: [-0.19855659  0.02939755], Right: [-0.4065579  -0.00271577], Center: [-0.0823093   0.01467261]\n"
          ]
        },
        {
          "output_type": "stream",
          "name": "stderr",
          "text": [
            "Epoch 21: 100%|██████████| 782/782 [00:12<00:00, 61.27it/s, loss=0.8269, step=16422]\n"
          ]
        },
        {
          "output_type": "stream",
          "name": "stdout",
          "text": [
            "[Epoch 21] Loss: 8.2687e-01\n"
          ]
        },
        {
          "output_type": "stream",
          "name": "stderr",
          "text": [
            "Epoch 22: 100%|██████████| 782/782 [00:12<00:00, 61.16it/s, loss=0.8277, step=17204]\n"
          ]
        },
        {
          "output_type": "stream",
          "name": "stdout",
          "text": [
            "[Epoch 22] Loss: 8.2768e-01\n"
          ]
        },
        {
          "output_type": "stream",
          "name": "stderr",
          "text": [
            "Epoch 23: 100%|██████████| 782/782 [00:12<00:00, 60.37it/s, loss=0.8283, step=17986]\n"
          ]
        },
        {
          "output_type": "stream",
          "name": "stdout",
          "text": [
            "[Epoch 23] Loss: 8.2828e-01\n"
          ]
        },
        {
          "output_type": "stream",
          "name": "stderr",
          "text": [
            "Epoch 24: 100%|██████████| 782/782 [00:12<00:00, 60.69it/s, loss=0.8305, step=18768]\n"
          ]
        },
        {
          "output_type": "stream",
          "name": "stdout",
          "text": [
            "[Epoch 24] Loss: 8.3048e-01\n"
          ]
        },
        {
          "output_type": "stream",
          "name": "stderr",
          "text": [
            "Epoch 25: 100%|██████████| 782/782 [00:12<00:00, 61.13it/s, loss=0.8240, step=19550]\n"
          ]
        },
        {
          "output_type": "stream",
          "name": "stdout",
          "text": [
            "[Epoch 25] Loss: 8.2401e-01\n",
            "   Validation - Left: [-0.17347167  0.01530692], Right: [-0.3458383  -0.00282974], Center: [-0.26048437  0.01692013]\n"
          ]
        },
        {
          "output_type": "stream",
          "name": "stderr",
          "text": [
            "Epoch 26: 100%|██████████| 782/782 [00:12<00:00, 60.73it/s, loss=0.8218, step=20332]\n"
          ]
        },
        {
          "output_type": "stream",
          "name": "stdout",
          "text": [
            "[Epoch 26] Loss: 8.2181e-01\n"
          ]
        },
        {
          "output_type": "stream",
          "name": "stderr",
          "text": [
            "Epoch 27: 100%|██████████| 782/782 [00:12<00:00, 61.09it/s, loss=0.8241, step=21114]\n"
          ]
        },
        {
          "output_type": "stream",
          "name": "stdout",
          "text": [
            "[Epoch 27] Loss: 8.2408e-01\n"
          ]
        },
        {
          "output_type": "stream",
          "name": "stderr",
          "text": [
            "Epoch 28: 100%|██████████| 782/782 [00:13<00:00, 60.00it/s, loss=0.8202, step=21896]\n"
          ]
        },
        {
          "output_type": "stream",
          "name": "stdout",
          "text": [
            "[Epoch 28] Loss: 8.2020e-01\n"
          ]
        },
        {
          "output_type": "stream",
          "name": "stderr",
          "text": [
            "Epoch 29: 100%|██████████| 782/782 [00:12<00:00, 61.23it/s, loss=0.8255, step=22678]\n"
          ]
        },
        {
          "output_type": "stream",
          "name": "stdout",
          "text": [
            "[Epoch 29] Loss: 8.2549e-01\n"
          ]
        },
        {
          "output_type": "stream",
          "name": "stderr",
          "text": [
            "Epoch 30: 100%|██████████| 782/782 [00:12<00:00, 60.50it/s, loss=0.8209, step=23460]\n"
          ]
        },
        {
          "output_type": "stream",
          "name": "stdout",
          "text": [
            "[Epoch 30] Loss: 8.2094e-01\n",
            "   Validation - Left: [-0.14006917  0.00877499], Right: [-0.24190266 -0.00316742], Center: [-0.43442076  0.01896667]\n"
          ]
        },
        {
          "output_type": "stream",
          "name": "stderr",
          "text": [
            "Epoch 31: 100%|██████████| 782/782 [00:12<00:00, 61.25it/s, loss=0.8197, step=24242]\n"
          ]
        },
        {
          "output_type": "stream",
          "name": "stdout",
          "text": [
            "[Epoch 31] Loss: 8.1972e-01\n"
          ]
        },
        {
          "output_type": "stream",
          "name": "stderr",
          "text": [
            "Epoch 32: 100%|██████████| 782/782 [00:12<00:00, 61.86it/s, loss=0.8239, step=25024]\n"
          ]
        },
        {
          "output_type": "stream",
          "name": "stdout",
          "text": [
            "[Epoch 32] Loss: 8.2387e-01\n"
          ]
        },
        {
          "output_type": "stream",
          "name": "stderr",
          "text": [
            "Epoch 33: 100%|██████████| 782/782 [00:12<00:00, 62.68it/s, loss=0.8258, step=25806]\n"
          ]
        },
        {
          "output_type": "stream",
          "name": "stdout",
          "text": [
            "[Epoch 33] Loss: 8.2575e-01\n"
          ]
        },
        {
          "output_type": "stream",
          "name": "stderr",
          "text": [
            "Epoch 34: 100%|██████████| 782/782 [00:12<00:00, 61.49it/s, loss=0.8208, step=26588]\n"
          ]
        },
        {
          "output_type": "stream",
          "name": "stdout",
          "text": [
            "[Epoch 34] Loss: 8.2076e-01\n"
          ]
        },
        {
          "output_type": "stream",
          "name": "stderr",
          "text": [
            "Epoch 35: 100%|██████████| 782/782 [00:12<00:00, 62.50it/s, loss=0.8243, step=27370]\n"
          ]
        },
        {
          "output_type": "stream",
          "name": "stdout",
          "text": [
            "[Epoch 35] Loss: 8.2428e-01\n",
            "   Validation - Left: [-0.11291762  0.00268123], Right: [-0.1531945  -0.00182965], Center: [-0.5403295  0.0158815]\n"
          ]
        },
        {
          "output_type": "stream",
          "name": "stderr",
          "text": [
            "Epoch 36: 100%|██████████| 782/782 [00:12<00:00, 61.52it/s, loss=0.8244, step=28152]\n"
          ]
        },
        {
          "output_type": "stream",
          "name": "stdout",
          "text": [
            "[Epoch 36] Loss: 8.2444e-01\n"
          ]
        },
        {
          "output_type": "stream",
          "name": "stderr",
          "text": [
            "Epoch 37: 100%|██████████| 782/782 [00:12<00:00, 61.36it/s, loss=0.8266, step=28934]\n"
          ]
        },
        {
          "output_type": "stream",
          "name": "stdout",
          "text": [
            "[Epoch 37] Loss: 8.2663e-01\n"
          ]
        },
        {
          "output_type": "stream",
          "name": "stderr",
          "text": [
            "Epoch 38: 100%|██████████| 782/782 [00:12<00:00, 62.53it/s, loss=0.8160, step=29716]\n"
          ]
        },
        {
          "output_type": "stream",
          "name": "stdout",
          "text": [
            "[Epoch 38] Loss: 8.1602e-01\n"
          ]
        },
        {
          "output_type": "stream",
          "name": "stderr",
          "text": [
            "Epoch 39: 100%|██████████| 782/782 [00:12<00:00, 60.87it/s, loss=0.8321, step=30498]\n"
          ]
        },
        {
          "output_type": "stream",
          "name": "stdout",
          "text": [
            "[Epoch 39] Loss: 8.3212e-01\n"
          ]
        },
        {
          "output_type": "stream",
          "name": "stderr",
          "text": [
            "Epoch 40: 100%|██████████| 782/782 [00:12<00:00, 60.74it/s, loss=0.8153, step=31280]\n"
          ]
        },
        {
          "output_type": "stream",
          "name": "stdout",
          "text": [
            "[Epoch 40] Loss: 8.1535e-01\n",
            "   Validation - Left: [-0.09639783 -0.00392215], Right: [-0.09545167  0.00083558], Center: [-0.6093806   0.01373677]\n"
          ]
        },
        {
          "output_type": "stream",
          "name": "stderr",
          "text": [
            "Epoch 41: 100%|██████████| 782/782 [00:12<00:00, 60.99it/s, loss=0.8195, step=32062]\n"
          ]
        },
        {
          "output_type": "stream",
          "name": "stdout",
          "text": [
            "[Epoch 41] Loss: 8.1946e-01\n"
          ]
        },
        {
          "output_type": "stream",
          "name": "stderr",
          "text": [
            "Epoch 42: 100%|██████████| 782/782 [00:12<00:00, 60.92it/s, loss=0.8208, step=32844]\n"
          ]
        },
        {
          "output_type": "stream",
          "name": "stdout",
          "text": [
            "[Epoch 42] Loss: 8.2078e-01\n"
          ]
        },
        {
          "output_type": "stream",
          "name": "stderr",
          "text": [
            "Epoch 43: 100%|██████████| 782/782 [00:12<00:00, 61.98it/s, loss=0.8106, step=33626]\n"
          ]
        },
        {
          "output_type": "stream",
          "name": "stdout",
          "text": [
            "[Epoch 43] Loss: 8.1056e-01\n"
          ]
        },
        {
          "output_type": "stream",
          "name": "stderr",
          "text": [
            "Epoch 44: 100%|██████████| 782/782 [00:12<00:00, 61.45it/s, loss=0.8196, step=34408]\n"
          ]
        },
        {
          "output_type": "stream",
          "name": "stdout",
          "text": [
            "[Epoch 44] Loss: 8.1959e-01\n"
          ]
        },
        {
          "output_type": "stream",
          "name": "stderr",
          "text": [
            "Epoch 45: 100%|██████████| 782/782 [00:12<00:00, 61.81it/s, loss=0.8291, step=35190]\n"
          ]
        },
        {
          "output_type": "stream",
          "name": "stdout",
          "text": [
            "[Epoch 45] Loss: 8.2914e-01\n",
            "   Validation - Left: [-0.07634369 -0.00390035], Right: [-0.06210925  0.00265026], Center: [-0.65309364  0.01185671]\n"
          ]
        },
        {
          "output_type": "stream",
          "name": "stderr",
          "text": [
            "Epoch 46: 100%|██████████| 782/782 [00:13<00:00, 59.61it/s, loss=0.8193, step=35972]\n"
          ]
        },
        {
          "output_type": "stream",
          "name": "stdout",
          "text": [
            "[Epoch 46] Loss: 8.1934e-01\n"
          ]
        },
        {
          "output_type": "stream",
          "name": "stderr",
          "text": [
            "Epoch 47: 100%|██████████| 782/782 [00:12<00:00, 60.59it/s, loss=0.8213, step=36754]\n"
          ]
        },
        {
          "output_type": "stream",
          "name": "stdout",
          "text": [
            "[Epoch 47] Loss: 8.2133e-01\n"
          ]
        },
        {
          "output_type": "stream",
          "name": "stderr",
          "text": [
            "Epoch 48: 100%|██████████| 782/782 [00:12<00:00, 61.73it/s, loss=0.8238, step=37536]\n"
          ]
        },
        {
          "output_type": "stream",
          "name": "stdout",
          "text": [
            "[Epoch 48] Loss: 8.2375e-01\n"
          ]
        },
        {
          "output_type": "stream",
          "name": "stderr",
          "text": [
            "Epoch 49: 100%|██████████| 782/782 [00:12<00:00, 61.87it/s, loss=0.8102, step=38318]\n"
          ]
        },
        {
          "output_type": "stream",
          "name": "stdout",
          "text": [
            "[Epoch 49] Loss: 8.1018e-01\n"
          ]
        },
        {
          "output_type": "stream",
          "name": "stderr",
          "text": [
            "Epoch 50: 100%|██████████| 782/782 [00:12<00:00, 60.93it/s, loss=0.8249, step=39100]\n"
          ]
        },
        {
          "output_type": "stream",
          "name": "stdout",
          "text": [
            "[Epoch 50] Loss: 8.2490e-01\n",
            "   Validation - Left: [-0.0629965  -0.00381343], Right: [-0.04060362  0.00267716], Center: [-0.68227595  0.00694207]\n",
            "\n",
            "✅ Training completed!\n"
          ]
        },
        {
          "output_type": "display_data",
          "data": {
            "text/plain": [
              "<Figure size 800x400 with 1 Axes>"
            ],
            "image/png": "[encoded data removed]"
          },
          "metadata": {}
        },
        {
          "output_type": "stream",
          "name": "stdout",
          "text": [
            "Initial loss: 1.4584e+00\n",
            "Final loss: 8.2490e-01\n",
            "Loss reduction: 43.4%\n"
          ]
        }
      ]
    },
    {
      "cell_type": "markdown",
      "metadata": {
        "id": "3_DpBiRghnm7"
      },
      "source": [
        "#Sampling"
      ]
    },
    {
      "cell_type": "markdown",
      "metadata": {
        "id": "42nL2k_c16e1"
      },
      "source": [
        "##Euler Sampling"
      ]
    },
    {
      "cell_type": "markdown",
      "metadata": {
        "id": "gIGhk99dhpBb"
      },
      "source": [
        "Recall that for any SDE of the form\n",
        "\n",
        "$$\n",
        "dx = f(x, t)\\,dt + g(t)\\,dw,\n",
        "$$\n",
        "\n",
        "the reverse‐time SDE is given by\n",
        "\n",
        "$$\n",
        "dx = \\bigl[f(x, t) - g(t)^2\\,\\nabla_x\\log p_t(x)\\bigr]\\,dt + g(t)\\,d\\bar w.\n",
        "$$\n",
        "\n",
        "Since we have chosen the forward SDE to be\n",
        "\n",
        "$$\n",
        "dx = \\sigma^t\\,dw,\\quad t\\in[0,1],\n",
        "$$\n",
        "\n",
        "the reverse‐time SDE is\n",
        "\n",
        "$$\n",
        "dx = -\\,\\sigma^{2t}\\,\\nabla_x\\log p_t(x)\\,dt + \\sigma^t\\,d\\bar w.\n",
        "$$\n",
        "\n",
        "In particular, using our time‐dependent score‐based model, the reverse‐time SDE can be approximated by\n",
        "\n",
        "$$\n",
        "dx = -\\,\\sigma^{2t}\\,s_\\theta(x,t)\\,dt + \\sigma^t\\,d\\bar w.\n",
        "$$\n",
        "\n",
        "To sample from our time‐dependent score‐based model $s_\\theta(x,t)$, we first draw a sample from the prior distribution\n",
        "\n",
        "$$\n",
        "p_{1} \\approx \\mathcal{N}\\Bigl(x;0,\\;\\tfrac{1}{2\\log\\sigma}(\\sigma^{2}-1)\\,I\\Bigr),\n",
        "$$\n",
        "\n",
        "and then solve the reverse‐time SDE with numerical methods, such as the Euler–Maruyama approach.  Replacing $dt$ with $\\Delta t$ and $dw$ with $z_t\\sim\\mathcal{N}(0,\\,g^2(t)\\,\\Delta t\\,I)$, we obtain the iteration\n",
        "\n",
        "$$\n",
        "x_{\\,t-\\Delta t}\n",
        "= x_{t}\n",
        "  + \\sigma^{2t}\\,s_\\theta(x_t,\\,t)\\,\\Delta t\n",
        "  + \\sigma^t\\,\\sqrt{\\Delta t}\\;z_t,\n",
        "\\quad\n",
        "z_t \\sim \\mathcal{N}(0,\\,I).\n",
        "$$\n"
      ]
    },
    {
      "cell_type": "code",
      "execution_count": 13,
      "metadata": {
        "id": "dfD03xE5hUGx"
      },
      "outputs": [],
      "source": [
        "import torch\n",
        "import tqdm\n",
        "\n",
        "num_steps=500\n",
        "def euler_sampler_2d(score_model, marginal_prob_std, diffusion_coeff, batch_size=64, num_steps=num_steps, device='cuda', eps=1e-3):\n",
        "    \"\"\"\n",
        "    Euler sampler for 2D scalar data (Gaussian mixture model).\n",
        "\n",
        "    Args:\n",
        "        score_model: score network that takes (x_t, t) and returns score\n",
        "        marginal_prob_std: function that computes std at time t\n",
        "        diffusion_coeff: function that computes diffusion coefficient g(t)\n",
        "        batch_size: number of samples to generate\n",
        "        num_steps: number of discretization steps\n",
        "        device: 'cuda' or 'cpu'\n",
        "        eps: small epsilon to avoid numerical issues\n",
        "\n",
        "    Returns:\n",
        "        Generated samples of shape (batch_size, 2)\n",
        "    \"\"\"\n",
        "    # Initialize from prior at t=1\n",
        "    t = torch.ones(batch_size, device=device)\n",
        "    init_x = torch.randn(batch_size, 2, device=device) * marginal_prob_std(t).unsqueeze(1)\n",
        "\n",
        "    # Time steps from 1 to eps\n",
        "    time_steps = torch.linspace(1.0, eps, num_steps, device=device)\n",
        "    step_size = time_steps[0] - time_steps[1]\n",
        "\n",
        "    x = init_x\n",
        "    with torch.no_grad():\n",
        "        for time_step in tqdm.tqdm(time_steps, desc='Euler sampling (2D)'):\n",
        "            batch_time_step = torch.ones(batch_size, device=device) * time_step\n",
        "            g = diffusion_coeff(batch_time_step)\n",
        "\n",
        "            # Compute mean of reverse process\n",
        "            score = score_model(x, batch_time_step)\n",
        "            mean_x = x + (g**2).unsqueeze(1) * score * step_size\n",
        "\n",
        "            # Add noise\n",
        "            z = torch.randn_like(x)\n",
        "            x = mean_x + torch.sqrt(step_size) * g.unsqueeze(1) * z\n",
        "\n",
        "    return mean_x\n"
      ]
    },
    {
      "cell_type": "markdown",
      "metadata": {
        "id": "qO_e3_ql1-CT"
      },
      "source": [
        "## PC sampler"
      ]
    },
    {
      "cell_type": "markdown",
      "metadata": {
        "id": "HPOwbNizqMU8"
      },
      "source": [
        "corrector:\n",
        "$$ x_t ← x_t+α s_θ(x_t,t)+\\sqrt{2α} z$$\n",
        "predictor:\n",
        "$$x_{t-Δt}=\\mu+g_t \\sqrt{Δt} z$$\n",
        "where $\\mu=x_t+g_t^2s_\\theta (x_t,t)Δt$\n"
      ]
    },
    {
      "cell_type": "markdown",
      "metadata": {
        "id": "RitpF1nJDrWG"
      },
      "source": [
        "##Sampler via PC sampler"
      ]
    },
    {
      "cell_type": "code",
      "execution_count": 11,
      "metadata": {
        "id": "OUc6wqwTDsqU"
      },
      "outputs": [],
      "source": [
        "import torch\n",
        "import tqdm\n",
        "import math\n",
        "\n",
        "def pc_sampler_2d(\n",
        "    score_model,\n",
        "    marginal_prob_std,\n",
        "    diffusion_coeff,\n",
        "    batch_size=64,\n",
        "    num_steps=1000,\n",
        "    snr=0.16,\n",
        "    device='cuda',\n",
        "    eps=1e-4,\n",
        "    corrector_steps=20\n",
        "):\n",
        "    \"\"\"\n",
        "    Predictor–Corrector sampler for 2-D data (e.g., Gaussian mixture).\n",
        "\n",
        "    Args:\n",
        "        score_model: a model mapping (x_t of shape (B,2), t of shape (B,)) → (B,2)\n",
        "        marginal_prob_std: function t→σ̄(t)\n",
        "        diffusion_coeff: function t→g(t)\n",
        "        batch_size: number of samples to generate\n",
        "        num_steps: number of discretization steps (time grid from 1→eps)\n",
        "        snr: signal-to-noise ratio for Langevin corrector\n",
        "        device: 'cuda' or 'cpu'\n",
        "        eps: smallest time to end at\n",
        "        corrector_steps: number of Langevin steps per time\n",
        "\n",
        "    Returns:\n",
        "        x_mean: final denoised samples of shape (batch_size,2)\n",
        "    \"\"\"\n",
        "    # 1) Initialize from prior at t=1: x₁ ∼ N(0, σ̄(1)² I₂)\n",
        "    t = torch.ones(batch_size, device=device)\n",
        "    with torch.no_grad():\n",
        "        std1 = marginal_prob_std(t).unsqueeze(1)          # (B,1)\n",
        "        x = torch.randn(batch_size, 2, device=device) * std1  # (B,2)\n",
        "\n",
        "    # 2) Time grid and step size\n",
        "    time_steps = torch.linspace(1.0, eps, num_steps, device=device)\n",
        "    dt = time_steps[0] - time_steps[1]\n",
        "\n",
        "    # 3) Reverse SDE with Predictor–Corrector\n",
        "    with torch.no_grad():\n",
        "        for time_step in tqdm.tqdm(time_steps, desc='PC sampling (2D)'):\n",
        "            batch_t = torch.full((batch_size,), time_step, device=device)\n",
        "\n",
        "            # Predictor: Euler–Maruyama\n",
        "            g = diffusion_coeff(time_step)                   # scalar\n",
        "            score = score_model(x, batch_t)                  # (B,2)\n",
        "            x_mean = x + (g**2) * score * dt                 # (B,2)\n",
        "            x = x_mean + g * math.sqrt(dt) * torch.randn_like(x)\n",
        "\n",
        "            # Corrector: Langevin MCMC\n",
        "            for _ in range(corrector_steps):\n",
        "                grad = score_model(x, batch_t)               # (B,2)\n",
        "                # compute norms\n",
        "                grad_norm  = torch.norm(grad.view(batch_size, -1), dim=1).mean()\n",
        "                noise_norm = math.sqrt(2)                    # sqrt(D) for D=2\n",
        "                # step size α = 2*(snr·noise_norm/grad_norm)²\n",
        "                if grad_norm > 0:  # Avoid division by zero\n",
        "                    alpha = (snr * noise_norm / grad_norm)**2 * 2.0\n",
        "                else:\n",
        "                    alpha = 0.01  # Small fallback value\n",
        "                # Langevin update\n",
        "                x = x + alpha * grad + math.sqrt(2*alpha) * torch.randn_like(x)\n",
        "\n",
        "    # 4) Return final denoised mean\n",
        "    return x_mean\n"
      ]
    },
    {
      "cell_type": "code",
      "execution_count": 12,
      "metadata": {
        "colab": {
          "base_uri": "https://localhost:8080/",
          "height": 1000
        },
        "id": "5J7Nu539R1SR",
        "outputId": "7059c8b5-312b-49bb-cb9e-c808694b7c51"
      },
      "outputs": [
        {
          "output_type": "stream",
          "name": "stdout",
          "text": [
            "=== TESTING NEW MODEL WITH SAMPLING ===\n",
            "Generating 2000 samples with PC sampler (new model)...\n"
          ]
        },
        {
          "output_type": "stream",
          "name": "stderr",
          "text": [
            "PC sampling (2D): 100%|██████████| 200/200 [00:04<00:00, 48.62it/s]\n",
            "PC sampling (2D): 100%|██████████| 200/200 [00:03<00:00, 57.12it/s]\n",
            "PC sampling (2D): 100%|██████████| 200/200 [00:03<00:00, 57.73it/s]\n",
            "PC sampling (2D): 100%|██████████| 200/200 [00:04<00:00, 48.86it/s]\n",
            "PC sampling (2D): 100%|██████████| 200/200 [00:03<00:00, 55.18it/s]\n",
            "PC sampling (2D): 100%|██████████| 200/200 [00:03<00:00, 56.76it/s]\n",
            "PC sampling (2D): 100%|██████████| 200/200 [00:03<00:00, 55.59it/s]\n",
            "PC sampling (2D): 100%|██████████| 200/200 [00:04<00:00, 48.71it/s]\n",
            "PC sampling (2D): 100%|██████████| 200/200 [00:03<00:00, 56.10it/s]\n",
            "PC sampling (2D): 100%|██████████| 200/200 [00:03<00:00, 56.09it/s]\n",
            "PC sampling (2D): 100%|██████████| 200/200 [00:04<00:00, 47.78it/s]\n",
            "PC sampling (2D): 100%|██████████| 200/200 [00:03<00:00, 57.95it/s]\n",
            "PC sampling (2D): 100%|██████████| 200/200 [00:03<00:00, 57.57it/s]\n",
            "PC sampling (2D): 100%|██████████| 200/200 [00:03<00:00, 50.87it/s]\n",
            "PC sampling (2D): 100%|██████████| 200/200 [00:03<00:00, 53.31it/s]\n",
            "PC sampling (2D): 100%|██████████| 200/200 [00:02<00:00, 85.45it/s]\n",
            "WARNING:matplotlib.axes._base:Ignoring fixed y limits to fulfill fixed data aspect with adjustable data limits.\n",
            "WARNING:matplotlib.axes._base:Ignoring fixed y limits to fulfill fixed data aspect with adjustable data limits.\n",
            "WARNING:matplotlib.axes._base:Ignoring fixed x limits to fulfill fixed data aspect with adjustable data limits.\n",
            "WARNING:matplotlib.axes._base:Ignoring fixed x limits to fulfill fixed data aspect with adjustable data limits.\n"
          ]
        },
        {
          "output_type": "display_data",
          "data": {
            "text/plain": [
              "<Figure size 1800x500 with 3 Axes>"
            ],
            "image/png": "[encoded data removed]"
          },
          "metadata": {}
        },
        {
          "output_type": "stream",
          "name": "stdout",
          "text": [
            "\n",
            "=== DETAILED ANALYSIS (NEW MODEL) ===\n",
            "Real data statistics:\n",
            "  Mean: [ 0.28415713 -0.00763024]\n",
            "  Std: [10.190539   2.1380775]\n",
            "\n",
            "Generated samples statistics:\n",
            "  Mean: [-1.1154841   0.00908891]\n",
            "  Std: [10.371078   2.3121715]\n",
            "\n",
            "Clustering analysis:\n",
            "Real data - Left cluster: 973 samples, Right cluster: 1027 samples\n",
            "Generated - Left cluster: 1085 samples, Right cluster: 915 samples\n",
            "Real left cluster mean: [-9.963562   -0.01430717]\n",
            "Real right cluster mean: [ 9.9930401e+00 -1.3043731e-03]\n",
            "Generated left cluster mean: [-10.393896     0.01275541]\n",
            "Generated right cluster mean: [9.8867817e+00 4.7411574e-03]\n",
            "\n",
            "=== QUALITY ASSESSMENT (NEW MODEL) ===\n",
            "Cluster balance - Real: 0.49, Generated: 0.54\n",
            "✅ Cluster balance looks good!\n",
            "Cluster separation - Real: 20.0, Generated: 20.3\n",
            "✅ Cluster separation looks good!\n",
            "\n",
            "============================================================\n"
          ]
        }
      ],
      "source": [
        "print(\"=== TESTING NEW MODEL WITH SAMPLING ===\")\n",
        "\n",
        "# Generate samples with the new trained model\n",
        "M = 2000  # Number of samples to generate\n",
        "gen_samples_new = []\n",
        "\n",
        "with torch.no_grad():\n",
        "    n_batches = (M + batch_size - 1) // batch_size\n",
        "\n",
        "    print(f\"Generating {M} samples with PC sampler (new model)...\")\n",
        "    for i in range(n_batches):\n",
        "        current_batch_size = min(batch_size, M - i * batch_size)\n",
        "        x_gen = pc_sampler_2d(\n",
        "            score_model=ema_new.module,\n",
        "            marginal_prob_std=marginal_prob_std_fn,\n",
        "            diffusion_coeff=diffusion_coeff_fn,\n",
        "            batch_size=current_batch_size,\n",
        "            num_steps=200,  # Reduced for faster generation\n",
        "            snr=0.16,\n",
        "            device=device,\n",
        "            eps=1e-3,\n",
        "            corrector_steps=5  # Reduced for faster generation\n",
        "        )\n",
        "        gen_samples_new.append(x_gen.cpu().numpy())\n",
        "\n",
        "# Flatten and trim to exactly M samples\n",
        "gen_samples_new = np.concatenate(gen_samples_new, axis=0)[:M]\n",
        "\n",
        "# Prepare the real GMM samples (new dataset)\n",
        "real_samples_new = x0_new.cpu().numpy()  # shape (N,2)\n",
        "\n",
        "# Plot comparison\n",
        "plt.figure(figsize=(18, 5))\n",
        "\n",
        "# Subplot 1: Real GMM (new dataset)\n",
        "plt.subplot(1, 3, 1)\n",
        "plt.scatter(real_samples_new[:M, 0], real_samples_new[:M, 1], s=3, alpha=0.6, color='C0')\n",
        "plt.title(\"Real GMM: Clusters at (-10, 10)\")\n",
        "plt.axis('equal')\n",
        "plt.xlim(-15, 15)\n",
        "plt.ylim(-5, 5)\n",
        "plt.grid(True, alpha=0.3)\n",
        "\n",
        "# Subplot 2: Generated samples (new model)\n",
        "plt.subplot(1, 3, 2)\n",
        "plt.scatter(gen_samples_new[:, 0], gen_samples_new[:, 1], s=3, alpha=0.6, color='C1')\n",
        "plt.title(\"Generated (New Model)\")\n",
        "plt.axis('equal')\n",
        "plt.xlim(-15, 15)\n",
        "plt.ylim(-5, 5)\n",
        "plt.grid(True, alpha=0.3)\n",
        "\n",
        "# Subplot 3: Histogram comparison\n",
        "plt.subplot(1, 3, 3)\n",
        "plt.hist(real_samples_new[:M, 0], bins=50, alpha=0.5, color='blue', label='Real', density=True)\n",
        "plt.hist(gen_samples_new[:, 0], bins=50, alpha=0.5, color='orange', label='Generated', density=True)\n",
        "plt.title(\"X-coordinate Distributions\")\n",
        "plt.xlabel('X')\n",
        "plt.ylabel('Density')\n",
        "plt.legend()\n",
        "plt.grid(True, alpha=0.3)\n",
        "\n",
        "plt.tight_layout()\n",
        "plt.show()\n",
        "\n",
        "# Print detailed statistics\n",
        "print(\"\\n=== DETAILED ANALYSIS (NEW MODEL) ===\")\n",
        "print(f\"Real data statistics:\")\n",
        "print(f\"  Mean: {np.mean(real_samples_new[:M], axis=0)}\")\n",
        "print(f\"  Std: {np.std(real_samples_new[:M], axis=0)}\")\n",
        "\n",
        "print(f\"\\nGenerated samples statistics:\")\n",
        "print(f\"  Mean: {np.mean(gen_samples_new, axis=0)}\")\n",
        "print(f\"  Std: {np.std(gen_samples_new, axis=0)}\")\n",
        "\n",
        "# Analyze clustering\n",
        "real_left_new = real_samples_new[:M][real_samples_new[:M, 0] < 0]\n",
        "real_right_new = real_samples_new[:M][real_samples_new[:M, 0] > 0]\n",
        "gen_left_new = gen_samples_new[gen_samples_new[:, 0] < 0]\n",
        "gen_right_new = gen_samples_new[gen_samples_new[:, 0] > 0]\n",
        "\n",
        "print(f\"\\nClustering analysis:\")\n",
        "print(f\"Real data - Left cluster: {len(real_left_new)} samples, Right cluster: {len(real_right_new)} samples\")\n",
        "print(f\"Generated - Left cluster: {len(gen_left_new)} samples, Right cluster: {len(gen_right_new)} samples\")\n",
        "\n",
        "if len(real_left_new) > 0:\n",
        "    print(f\"Real left cluster mean: {np.mean(real_left_new, axis=0)}\")\n",
        "if len(real_right_new) > 0:\n",
        "    print(f\"Real right cluster mean: {np.mean(real_right_new, axis=0)}\")\n",
        "if len(gen_left_new) > 0:\n",
        "    print(f\"Generated left cluster mean: {np.mean(gen_left_new, axis=0)}\")\n",
        "if len(gen_right_new) > 0:\n",
        "    print(f\"Generated right cluster mean: {np.mean(gen_right_new, axis=0)}\")\n",
        "\n",
        "# Quality assessment\n",
        "print(f\"\\n=== QUALITY ASSESSMENT (NEW MODEL) ===\")\n",
        "balance_real_new = len(real_left_new) / len(real_samples_new[:M])\n",
        "balance_gen_new = len(gen_left_new) / len(gen_samples_new) if len(gen_samples_new) > 0 else 0\n",
        "print(f\"Cluster balance - Real: {balance_real_new:.2f}, Generated: {balance_gen_new:.2f}\")\n",
        "\n",
        "if abs(balance_real_new - balance_gen_new) < 0.1:\n",
        "    print(\"✅ Cluster balance looks good!\")\n",
        "else:\n",
        "    print(\"⚠️  Cluster balance might be off\")\n",
        "\n",
        "# Check cluster separation\n",
        "if len(gen_left_new) > 0 and len(gen_right_new) > 0:\n",
        "    sep_real = np.mean(real_right_new, axis=0)[0] - np.mean(real_left_new, axis=0)[0]\n",
        "    sep_gen = np.mean(gen_right_new, axis=0)[0] - np.mean(gen_left_new, axis=0)[0]\n",
        "    print(f\"Cluster separation - Real: {sep_real:.1f}, Generated: {sep_gen:.1f}\")\n",
        "\n",
        "    if abs(sep_real - sep_gen) < 2.0:\n",
        "        print(\"✅ Cluster separation looks good!\")\n",
        "    else:\n",
        "        print(\"⚠️  Cluster separation might be different from real data\")\n",
        "\n",
        "print(\"\\n\" + \"=\"*60)"
      ]
    }
  ],
  "metadata": {
    "colab": {
      "provenance": []
    },
    "kernelspec": {
      "display_name": "Python 3",
      "name": "python3"
    },
    "language_info": {
      "codemirror_mode": {
        "name": "ipython",
        "version": 3
      },
      "file_extension": ".py",
      "mimetype": "text/x-python",
      "name": "python",
      "nbconvert_exporter": "python",
      "pygments_lexer": "ipython3",
      "version": "3.11.5"
    }
  },
  "nbformat": 4,
  "nbformat_minor": 0
}